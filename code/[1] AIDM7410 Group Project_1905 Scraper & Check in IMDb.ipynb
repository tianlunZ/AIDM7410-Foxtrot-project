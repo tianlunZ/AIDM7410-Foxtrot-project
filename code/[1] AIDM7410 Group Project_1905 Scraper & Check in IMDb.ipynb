{
 "cells": [
  {
   "cell_type": "markdown",
   "id": "7d798a4d",
   "metadata": {},
   "source": [
    "# AIDM7410 Group Project_1905 Scraper & Check in IMDb"
   ]
  },
  {
   "cell_type": "markdown",
   "id": "42cb45b4",
   "metadata": {},
   "source": [
    "This set of codes is used to scrape the list of the films released between 2002 and 2020 from 1905.com, and check whether each film has a webpage on IMDb.com. Finally, we could get a list of films that having a page on IMDb. \n",
    "\n",
    "It will cost about 8.5 hours to run the whole code. "
   ]
  },
  {
   "cell_type": "markdown",
   "id": "21150555",
   "metadata": {},
   "source": [
    "## 1905 scraper"
   ]
  },
  {
   "cell_type": "code",
   "execution_count": 1,
   "id": "c749d8da",
   "metadata": {},
   "outputs": [],
   "source": [
    "# import the packages we need\n",
    "from bs4 import BeautifulSoup\n",
    "import requests # scrape the statical page\n",
    "import pandas as pd\n",
    "import numpy as np\n",
    "from time import sleep\n",
    "from time import time\n",
    "from random import randint\n",
    "# scrape the dynamical page\n",
    "from selenium import webdriver \n",
    "from selenium.webdriver.common.keys import Keys\n",
    "import chromedriver_autoinstaller\n",
    "## Check if the current version of chromedriver exists\n",
    "## and if it doesn't exist, download it automatically,\n",
    "## then add chromedriver to path\n",
    "chromedriver_autoinstaller.install()"
   ]
  },
  {
   "cell_type": "markdown",
   "id": "a5349eb6",
   "metadata": {},
   "source": [
    "### 2020"
   ]
  },
  {
   "cell_type": "markdown",
   "id": "753d5962",
   "metadata": {},
   "source": [
    "* Scrape the first 6 pages' films of 2020"
   ]
  },
  {
   "cell_type": "code",
   "execution_count": null,
   "id": "dcd32e0a",
   "metadata": {
    "scrolled": true
   },
   "outputs": [],
   "source": [
    "# scrape the title of all films\n",
    "title_2020 = []\n",
    "\n",
    "n = range(1, 7)\n",
    "for e in n:\n",
    "    headers = {\"Accept-Language\": \"en-US, en;q=0.5\"}\n",
    "    sleep(randint(3,6))\n",
    "    url = 'https://www.1905.com/mdb/film/list/year-2020/clime-1/o0d0p'+str(e)+'.html'\n",
    "    page = requests.get(url, headers = headers)\n",
    "    print(e)\n",
    "    html_soup = BeautifulSoup(page.content, 'html.parser')\n",
    "    title_all = html_soup.find_all('div', class_='text')\n",
    "    for i in title_all:\n",
    "        title_all1 = i.find('a').get_text()\n",
    "        title_2020.append(title_all1)\n",
    "print(title_2020)"
   ]
  },
  {
   "cell_type": "code",
   "execution_count": null,
   "id": "0f3592ea",
   "metadata": {},
   "outputs": [],
   "source": [
    "# check how many films we scraped\n",
    "print(len(title_2020))"
   ]
  },
  {
   "cell_type": "markdown",
   "id": "109a842e",
   "metadata": {},
   "source": [
    "* Check in IMDB"
   ]
  },
  {
   "cell_type": "code",
   "execution_count": null,
   "id": "b03fc3e2",
   "metadata": {},
   "outputs": [],
   "source": [
    "# create a list to store the results\n",
    "result = []\n",
    "\n",
    "n = 1\n",
    "browser = webdriver.Chrome()\n",
    "browser.get(\"https://www.imdb.com/\") # open the page we will search on\n",
    "\n",
    "for i in title_2020:\n",
    "    elem = browser.find_element_by_name(\"q\") # find the search box\n",
    "    elem.clear()\n",
    "    sleep(randint(3,5))\n",
    "    elem.send_keys(i) # enter the film's title one by one\n",
    "    elem.send_keys(Keys.RETURN) #get the result page\n",
    "    if \"No results found\" in browser.page_source: #check whether there is a page link in the result\n",
    "        result.append('-')\n",
    "    else:\n",
    "        result.append('Yes')\n",
    "    print(n)\n",
    "    n = n + 1\n",
    "browser.close()    \n",
    "print(result)"
   ]
  },
  {
   "cell_type": "code",
   "execution_count": null,
   "id": "45aaec58",
   "metadata": {},
   "outputs": [],
   "source": [
    "# create a list that contains the titles and the results of whether there is a page on IMDb\n",
    "\n",
    "film_2020 = {\n",
    "    'title': title_2020,\n",
    "    'imdb_page': result\n",
    "}"
   ]
  },
  {
   "cell_type": "code",
   "execution_count": null,
   "id": "9eb23d8f",
   "metadata": {},
   "outputs": [],
   "source": [
    "pd_film_2020 = pd.DataFrame.from_dict(film_2020, orient ='index').transpose()\n",
    "pd_film_2020.to_csv('pd_film_2020.csv') # save to a csv file"
   ]
  },
  {
   "cell_type": "markdown",
   "id": "c2a42743",
   "metadata": {},
   "source": [
    "### 2019"
   ]
  },
  {
   "cell_type": "code",
   "execution_count": null,
   "id": "465faad0",
   "metadata": {
    "scrolled": true
   },
   "outputs": [],
   "source": [
    "title_2019 = []\n",
    "\n",
    "n = range(1, 17)\n",
    "for e in n:\n",
    "    headers = {\"Accept-Language\": \"en-US, en;q=0.5\"}\n",
    "    sleep(randint(3,6))\n",
    "    #url = i\n",
    "    url = 'https://www.1905.com/mdb/film/list/year-2019/clime-1/o0d0p'+str(e)+'.html'\n",
    "    page = requests.get(url, headers = headers)\n",
    "    print(e)\n",
    "    html_soup = BeautifulSoup(page.content, 'html.parser')\n",
    "    title_all = html_soup.find_all('div', class_='text')\n",
    "    for i in title_all:\n",
    "        title_all1 = i.find('a').get_text()\n",
    "        title_2019.append(title_all1)\n",
    "print(title_2019)"
   ]
  },
  {
   "cell_type": "code",
   "execution_count": null,
   "id": "867a02a6",
   "metadata": {},
   "outputs": [],
   "source": [
    "print(len(title_2019))"
   ]
  },
  {
   "cell_type": "code",
   "execution_count": null,
   "id": "cc54710e",
   "metadata": {},
   "outputs": [],
   "source": [
    "result = []"
   ]
  },
  {
   "cell_type": "code",
   "execution_count": null,
   "id": "1e3c65a1",
   "metadata": {
    "scrolled": true
   },
   "outputs": [],
   "source": [
    "n = 1\n",
    "\n",
    "for i in title_2019:\n",
    "    browser = webdriver.Chrome()\n",
    "    browser.get(\"https://www.imdb.com/\")\n",
    "    elem = browser.find_element_by_name(\"q\")\n",
    "    elem.clear()\n",
    "    sleep(randint(3,5))\n",
    "    elem.send_keys(i)\n",
    "    elem.send_keys(Keys.RETURN)\n",
    "    if \"No results found\" in browser.page_source:\n",
    "        result.append('-')\n",
    "    else:\n",
    "        result.append('Yes')\n",
    "    browser.close()\n",
    "    print(n)\n",
    "    n = n + 1\n",
    "    \n",
    "print(result)"
   ]
  },
  {
   "cell_type": "code",
   "execution_count": null,
   "id": "45160f2d",
   "metadata": {},
   "outputs": [],
   "source": [
    "# create list\n",
    "\n",
    "film_2019 = {\n",
    "    'title': title_2019,\n",
    "    'imdb_page': result\n",
    "}"
   ]
  },
  {
   "cell_type": "code",
   "execution_count": null,
   "id": "c4f67e9d",
   "metadata": {},
   "outputs": [],
   "source": [
    "pd_film_2019 = pd.DataFrame.from_dict(film_2019, orient ='index').transpose()\n",
    "pd_film_2019.to_csv('pd_film_2019.csv')"
   ]
  },
  {
   "cell_type": "markdown",
   "id": "9fe343fa",
   "metadata": {},
   "source": [
    "## 2018"
   ]
  },
  {
   "cell_type": "code",
   "execution_count": null,
   "id": "f15181a8",
   "metadata": {
    "scrolled": true
   },
   "outputs": [],
   "source": [
    "title_2018 = []\n",
    "\n",
    "n = range(1, 17)\n",
    "for e in n:\n",
    "    headers = {\"Accept-Language\": \"en-US, en;q=0.5\"}\n",
    "    sleep(randint(3,6))\n",
    "    #url = i\n",
    "    url = 'https://www.1905.com/mdb/film/list/year-2018/clime-1/o0d0p'+str(e)+'.html'\n",
    "    page = requests.get(url, headers = headers)\n",
    "    print(e)\n",
    "    html_soup = BeautifulSoup(page.content, 'html.parser')\n",
    "    title_all = html_soup.find_all('div', class_='text')\n",
    "    for i in title_all:\n",
    "        title_all1 = i.find('a').get_text()\n",
    "        title_2018.append(title_all1)\n",
    "print(title_2018)"
   ]
  },
  {
   "cell_type": "code",
   "execution_count": null,
   "id": "63e97259",
   "metadata": {},
   "outputs": [],
   "source": [
    "print(len(title_2018))"
   ]
  },
  {
   "cell_type": "code",
   "execution_count": null,
   "id": "09362a9c",
   "metadata": {},
   "outputs": [],
   "source": [
    "result = []"
   ]
  },
  {
   "cell_type": "code",
   "execution_count": null,
   "id": "36c035a9",
   "metadata": {
    "scrolled": true
   },
   "outputs": [],
   "source": [
    "n = 1\n",
    "\n",
    "for i in title_2018:\n",
    "    browser = webdriver.Chrome()\n",
    "    browser.get(\"https://www.imdb.com/\")\n",
    "    elem = browser.find_element_by_name(\"q\")\n",
    "    elem.clear()\n",
    "    sleep(randint(2,4))\n",
    "    elem.send_keys(i)\n",
    "    elem.send_keys(Keys.RETURN)\n",
    "    if \"No results found\" in browser.page_source:\n",
    "        result.append('-')\n",
    "    else:\n",
    "        result.append('Yes')\n",
    "    browser.close()\n",
    "    print(n)\n",
    "    n = n + 1\n",
    "    \n",
    "print(result)"
   ]
  },
  {
   "cell_type": "code",
   "execution_count": null,
   "id": "ebea3137",
   "metadata": {},
   "outputs": [],
   "source": [
    "# create list\n",
    "\n",
    "film_2018 = {\n",
    "    'title': title_2018,\n",
    "    'imdb_page': result\n",
    "}"
   ]
  },
  {
   "cell_type": "code",
   "execution_count": null,
   "id": "4c395c10",
   "metadata": {},
   "outputs": [],
   "source": [
    "pd_film_2018 = pd.DataFrame.from_dict(film_2018, orient ='index').transpose()\n",
    "pd_film_2018.to_csv('pd_film_2018.csv')"
   ]
  },
  {
   "cell_type": "markdown",
   "id": "d98cb3b5",
   "metadata": {},
   "source": [
    "## 2017"
   ]
  },
  {
   "cell_type": "code",
   "execution_count": null,
   "id": "03d7ca53",
   "metadata": {
    "scrolled": true
   },
   "outputs": [],
   "source": [
    "title_2017 = []\n",
    "\n",
    "n = range(1, 14)\n",
    "for e in n:\n",
    "    headers = {\"Accept-Language\": \"en-US, en;q=0.5\"}\n",
    "    sleep(randint(3,6))\n",
    "    #url = i\n",
    "    url = 'https://www.1905.com/mdb/film/list/year-2017/clime-1/o0d0p'+str(e)+'.html'\n",
    "    page = requests.get(url, headers = headers)\n",
    "    print(e)\n",
    "    html_soup = BeautifulSoup(page.content, 'html.parser')\n",
    "    title_all = html_soup.find_all('div', class_='text')\n",
    "    for i in title_all:\n",
    "        title_all1 = i.find('a').get_text()\n",
    "        title_2017.append(title_all1)\n",
    "print(title_2017)"
   ]
  },
  {
   "cell_type": "code",
   "execution_count": null,
   "id": "24cbb044",
   "metadata": {},
   "outputs": [],
   "source": [
    "print(len(title_2017))"
   ]
  },
  {
   "cell_type": "code",
   "execution_count": null,
   "id": "dcfba89d",
   "metadata": {},
   "outputs": [],
   "source": [
    "result = []"
   ]
  },
  {
   "cell_type": "code",
   "execution_count": null,
   "id": "d2fe2466",
   "metadata": {
    "scrolled": true
   },
   "outputs": [],
   "source": [
    "chromedriver_autoinstaller.install()  \n",
    "\n",
    "## Open the browser window\n",
    "browser = webdriver.Chrome()\n",
    "\n",
    "## Input destination\n",
    "browser.get(\"https://www.imdb.com/\")\n",
    "n = 1\n",
    "\n",
    "for i in title_2017:\n",
    "    elem = browser.find_element_by_name(\"q\")\n",
    "    elem.clear()\n",
    "    sleep(randint(3,5))\n",
    "    elem.send_keys(i)\n",
    "    elem.send_keys(Keys.RETURN)\n",
    "    if \"No results found\" in browser.page_source:\n",
    "        result.append('-')\n",
    "    else:\n",
    "        result.append('Yes')\n",
    "    print(n)\n",
    "    n = n + 1\n",
    "\n",
    "browser.close()    \n",
    "print(result)"
   ]
  },
  {
   "cell_type": "code",
   "execution_count": null,
   "id": "e2a93a10",
   "metadata": {
    "scrolled": false
   },
   "outputs": [],
   "source": [
    "print(len(result))"
   ]
  },
  {
   "cell_type": "code",
   "execution_count": null,
   "id": "338fe53a",
   "metadata": {},
   "outputs": [],
   "source": [
    "# create list\n",
    "\n",
    "film_2017 = {\n",
    "    'title': title_2017,\n",
    "    'imdb_page': result\n",
    "}"
   ]
  },
  {
   "cell_type": "code",
   "execution_count": null,
   "id": "bf648f6e",
   "metadata": {},
   "outputs": [],
   "source": [
    "pd_film_2017 = pd.DataFrame.from_dict(film_2017, orient ='index').transpose()\n",
    "pd_film_2017.to_csv('pd_film_2017.csv')"
   ]
  },
  {
   "cell_type": "markdown",
   "id": "bab230ca",
   "metadata": {},
   "source": [
    "## 2016"
   ]
  },
  {
   "cell_type": "code",
   "execution_count": null,
   "id": "106f552a",
   "metadata": {
    "scrolled": true
   },
   "outputs": [],
   "source": [
    "title_2016 = []\n",
    "\n",
    "n = range(1, 19)\n",
    "for e in n:\n",
    "    headers = {\"Accept-Language\": \"en-US, en;q=0.5\"}\n",
    "    sleep(randint(3,6))\n",
    "    url = 'https://www.1905.com/mdb/film/list/year-2016/clime-1/o0d0p'+str(e)+'.html'\n",
    "    page = requests.get(url, headers = headers)\n",
    "    print(e)\n",
    "    html_soup = BeautifulSoup(page.content, 'html.parser')\n",
    "    title_all = html_soup.find_all('div', class_='text')\n",
    "    for i in title_all:\n",
    "        title_all1 = i.find('a').get_text()\n",
    "        title_2016.append(title_all1)\n",
    "print(title_2016)"
   ]
  },
  {
   "cell_type": "code",
   "execution_count": null,
   "id": "584a25ee",
   "metadata": {
    "scrolled": true
   },
   "outputs": [],
   "source": [
    "print(len(title_2016))"
   ]
  },
  {
   "cell_type": "code",
   "execution_count": null,
   "id": "2c3e853f",
   "metadata": {},
   "outputs": [],
   "source": [
    "result = []"
   ]
  },
  {
   "cell_type": "code",
   "execution_count": null,
   "id": "999d9938",
   "metadata": {
    "scrolled": true
   },
   "outputs": [],
   "source": [
    "## Open the browser window\n",
    "browser = webdriver.Chrome()\n",
    "\n",
    "## Input destination\n",
    "browser.get(\"https://www.imdb.com/\")\n",
    "\n",
    "n = 1\n",
    "\n",
    "for i in title_2016:\n",
    "    elem = browser.find_element_by_name(\"q\")\n",
    "    elem.clear()\n",
    "    sleep(randint(3,5))\n",
    "    elem.send_keys(i)\n",
    "    elem.send_keys(Keys.RETURN)\n",
    "    if \"No results found\" in browser.page_source:\n",
    "        result.append('-')\n",
    "    else:\n",
    "        result.append('Yes')\n",
    "    print(n)\n",
    "    n = n + 1\n",
    "\n",
    "browser.close()    \n",
    "print(result)"
   ]
  },
  {
   "cell_type": "code",
   "execution_count": null,
   "id": "0660aed4",
   "metadata": {
    "scrolled": false
   },
   "outputs": [],
   "source": [
    "print(len(result))"
   ]
  },
  {
   "cell_type": "code",
   "execution_count": null,
   "id": "0a43beae",
   "metadata": {},
   "outputs": [],
   "source": [
    "# create list\n",
    "\n",
    "film_2016 = {\n",
    "    'title': title_2016,\n",
    "    'imdb_page': result\n",
    "}"
   ]
  },
  {
   "cell_type": "code",
   "execution_count": null,
   "id": "2aac2de6",
   "metadata": {},
   "outputs": [],
   "source": [
    "pd_film_2016 = pd.DataFrame.from_dict(film_2016, orient ='index').transpose()\n",
    "pd_film_2016.to_csv('pd_film_2016.csv')"
   ]
  },
  {
   "cell_type": "markdown",
   "id": "55f76416",
   "metadata": {},
   "source": [
    "## 2015"
   ]
  },
  {
   "cell_type": "code",
   "execution_count": null,
   "id": "1b5213dd",
   "metadata": {
    "scrolled": true
   },
   "outputs": [],
   "source": [
    "title_2015 = []\n",
    "\n",
    "n = range(1, 16)\n",
    "for e in n:\n",
    "    headers = {\"Accept-Language\": \"en-US, en;q=0.5\"}\n",
    "    sleep(randint(3,6))\n",
    "    #url = i\n",
    "    url = 'https://www.1905.com/mdb/film/list/year-2015/clime-1/o0d0p'+str(e)+'.html'\n",
    "    page = requests.get(url, headers = headers)\n",
    "    print(e)\n",
    "    html_soup = BeautifulSoup(page.content, 'html.parser')\n",
    "    title_all = html_soup.find_all('div', class_='text')\n",
    "    for i in title_all:\n",
    "        title_all1 = i.find('a').get_text()\n",
    "        title_2015.append(title_all1)\n",
    "print(title_2015)"
   ]
  },
  {
   "cell_type": "code",
   "execution_count": null,
   "id": "7c1a6e8a",
   "metadata": {
    "scrolled": false
   },
   "outputs": [],
   "source": [
    "print(len(title_2015))"
   ]
  },
  {
   "cell_type": "code",
   "execution_count": null,
   "id": "ef6f81fe",
   "metadata": {},
   "outputs": [],
   "source": [
    "result = []"
   ]
  },
  {
   "cell_type": "code",
   "execution_count": null,
   "id": "eb97fec2",
   "metadata": {
    "scrolled": true
   },
   "outputs": [],
   "source": [
    "browser = webdriver.Chrome()\n",
    "browser.get(\"https://www.imdb.com/\")\n",
    "n = 1\n",
    "for i in title_2015:\n",
    "    elem = browser.find_element_by_name(\"q\")\n",
    "    elem.clear()\n",
    "    sleep(randint(3,5))\n",
    "    elem.send_keys(i)\n",
    "    elem.send_keys(Keys.RETURN)\n",
    "    if \"No results found\" in browser.page_source:\n",
    "        result.append('-')\n",
    "    else:\n",
    "        result.append('Yes')\n",
    "    print(n)\n",
    "    n = n + 1\n",
    "\n",
    "browser.close()    \n",
    "print(result)"
   ]
  },
  {
   "cell_type": "code",
   "execution_count": null,
   "id": "86bd18f4",
   "metadata": {
    "scrolled": false
   },
   "outputs": [],
   "source": [
    "print(len(result))"
   ]
  },
  {
   "cell_type": "code",
   "execution_count": null,
   "id": "341591ef",
   "metadata": {},
   "outputs": [],
   "source": [
    "# create list\n",
    "\n",
    "film_2015 = {\n",
    "    'title': title_2015,\n",
    "    'imdb_page': result\n",
    "}"
   ]
  },
  {
   "cell_type": "code",
   "execution_count": null,
   "id": "8d0b7943",
   "metadata": {},
   "outputs": [],
   "source": [
    "pd_film_2015 = pd.DataFrame.from_dict(film_2015, orient ='index').transpose()\n",
    "pd_film_2015.to_csv('pd_film_2015.csv')"
   ]
  },
  {
   "cell_type": "markdown",
   "id": "a517e682",
   "metadata": {},
   "source": [
    "## 2014"
   ]
  },
  {
   "cell_type": "code",
   "execution_count": null,
   "id": "1d55d175",
   "metadata": {
    "scrolled": true
   },
   "outputs": [],
   "source": [
    "title_2014 = []\n",
    "\n",
    "n = range(1, 12)\n",
    "for e in n:\n",
    "    headers = {\"Accept-Language\": \"en-US, en;q=0.5\"}\n",
    "    sleep(randint(3,6))\n",
    "    #url = i\n",
    "    url = 'https://www.1905.com/mdb/film/list/year-2014/clime-1/o0d0p'+str(e)+'.html'\n",
    "    page = requests.get(url, headers = headers)\n",
    "    print(e)\n",
    "    html_soup = BeautifulSoup(page.content, 'html.parser')\n",
    "    title_all = html_soup.find_all('div', class_='text')\n",
    "    for i in title_all:\n",
    "        title_all1 = i.find('a').get_text()\n",
    "        title_2014.append(title_all1)\n",
    "print(title_2014)"
   ]
  },
  {
   "cell_type": "code",
   "execution_count": null,
   "id": "77bb694e",
   "metadata": {
    "scrolled": false
   },
   "outputs": [],
   "source": [
    "print(len(title_2014))"
   ]
  },
  {
   "cell_type": "code",
   "execution_count": null,
   "id": "4135fbc9",
   "metadata": {},
   "outputs": [],
   "source": [
    "result = []"
   ]
  },
  {
   "cell_type": "code",
   "execution_count": null,
   "id": "a5eba9b1",
   "metadata": {
    "scrolled": true
   },
   "outputs": [],
   "source": [
    "browser = webdriver.Chrome()\n",
    "browser.get(\"https://www.imdb.com/\")\n",
    "n = 1\n",
    "for i in title_2014:\n",
    "    elem = browser.find_element_by_name(\"q\")\n",
    "    elem.clear()\n",
    "    sleep(randint(3,5))\n",
    "    elem.send_keys(i)\n",
    "    elem.send_keys(Keys.RETURN)\n",
    "    if \"No results found\" in browser.page_source:\n",
    "        result.append('-')\n",
    "    else:\n",
    "        result.append('Yes')\n",
    "    print(n)\n",
    "    n = n + 1\n",
    "\n",
    "browser.close()    \n",
    "print(result)"
   ]
  },
  {
   "cell_type": "code",
   "execution_count": null,
   "id": "2a9e52e7",
   "metadata": {
    "scrolled": false
   },
   "outputs": [],
   "source": [
    "print(len(result))"
   ]
  },
  {
   "cell_type": "code",
   "execution_count": null,
   "id": "96523965",
   "metadata": {},
   "outputs": [],
   "source": [
    "# create list\n",
    "\n",
    "film_2014 = {\n",
    "    'title': title_2014,\n",
    "    'imdb_page': result\n",
    "}"
   ]
  },
  {
   "cell_type": "code",
   "execution_count": null,
   "id": "852fd428",
   "metadata": {},
   "outputs": [],
   "source": [
    "pd_film_2014 = pd.DataFrame.from_dict(film_2014, orient ='index').transpose()\n",
    "pd_film_2014.to_csv('pd_film_2014.csv')"
   ]
  },
  {
   "cell_type": "markdown",
   "id": "5fb6043b",
   "metadata": {},
   "source": [
    "## 2013"
   ]
  },
  {
   "cell_type": "code",
   "execution_count": null,
   "id": "fe106b3f",
   "metadata": {
    "scrolled": true
   },
   "outputs": [],
   "source": [
    "title_2013 = []\n",
    "\n",
    "n = range(1, 9)\n",
    "for e in n:\n",
    "    headers = {\"Accept-Language\": \"en-US, en;q=0.5\"}\n",
    "    sleep(randint(3,6))\n",
    "    #url = i\n",
    "    url = 'https://www.1905.com/mdb/film/list/year-2013/clime-1/o0d0p'+str(e)+'.html'\n",
    "    page = requests.get(url, headers = headers)\n",
    "    print(e)\n",
    "    html_soup = BeautifulSoup(page.content, 'html.parser')\n",
    "    title_all = html_soup.find_all('div', class_='text')\n",
    "    for i in title_all:\n",
    "        title_all1 = i.find('a').get_text()\n",
    "        title_2013.append(title_all1)\n",
    "print(title_2013)"
   ]
  },
  {
   "cell_type": "code",
   "execution_count": null,
   "id": "c3572bce",
   "metadata": {
    "scrolled": false
   },
   "outputs": [],
   "source": [
    "print(len(title_2013))"
   ]
  },
  {
   "cell_type": "code",
   "execution_count": null,
   "id": "ad7c20f2",
   "metadata": {},
   "outputs": [],
   "source": [
    "result = []"
   ]
  },
  {
   "cell_type": "code",
   "execution_count": null,
   "id": "d4666cad",
   "metadata": {
    "scrolled": true
   },
   "outputs": [],
   "source": [
    "from selenium import webdriver\n",
    "from selenium.webdriver.common.keys import Keys\n",
    "import chromedriver_autoinstaller\n",
    "\n",
    "chromedriver_autoinstaller.install()  \n",
    "browser = webdriver.Chrome()\n",
    "browser.get(\"https://www.imdb.com/\")\n",
    "n = 1\n",
    "for i in title_2013:\n",
    "    elem = browser.find_element_by_name(\"q\")\n",
    "    elem.clear()\n",
    "    sleep(randint(3,5))\n",
    "    elem.send_keys(i)\n",
    "    elem.send_keys(Keys.RETURN)\n",
    "    if \"No results found\" in browser.page_source:\n",
    "        result.append('-')\n",
    "    else:\n",
    "        result.append('Yes')\n",
    "    print(n)\n",
    "    n = n + 1\n",
    "\n",
    "browser.close()    \n",
    "print(result)"
   ]
  },
  {
   "cell_type": "code",
   "execution_count": null,
   "id": "354b5764",
   "metadata": {
    "scrolled": true
   },
   "outputs": [],
   "source": [
    "print(len(result))"
   ]
  },
  {
   "cell_type": "code",
   "execution_count": null,
   "id": "ae6d2727",
   "metadata": {},
   "outputs": [],
   "source": [
    "# create list\n",
    "\n",
    "film_2013 = {\n",
    "    'title': title_2013,\n",
    "    'imdb_page': result\n",
    "}"
   ]
  },
  {
   "cell_type": "code",
   "execution_count": null,
   "id": "1fb202c0",
   "metadata": {},
   "outputs": [],
   "source": [
    "pd_film_2013 = pd.DataFrame.from_dict(film_2013, orient ='index').transpose()\n",
    "pd_film_2013.to_csv('pd_film_2013.csv')"
   ]
  },
  {
   "cell_type": "markdown",
   "id": "f5c1b1c9",
   "metadata": {},
   "source": [
    "## 2012"
   ]
  },
  {
   "cell_type": "code",
   "execution_count": null,
   "id": "1081626d",
   "metadata": {
    "scrolled": true
   },
   "outputs": [],
   "source": [
    "title_2012 = []\n",
    "\n",
    "n = range(1, 10)\n",
    "for e in n:\n",
    "    headers = {\"Accept-Language\": \"en-US, en;q=0.5\"}\n",
    "    sleep(randint(3,6))\n",
    "    #url = i\n",
    "    url = 'https://www.1905.com/mdb/film/list/year-2012/clime-1/o0d0p'+str(e)+'.html'\n",
    "    page = requests.get(url, headers = headers)\n",
    "    print(e)\n",
    "    html_soup = BeautifulSoup(page.content, 'html.parser')\n",
    "    title_all = html_soup.find_all('div', class_='text')\n",
    "    for i in title_all:\n",
    "        title_all1 = i.find('a').get_text()\n",
    "        title_2012.append(title_all1)\n",
    "print(title_2012)"
   ]
  },
  {
   "cell_type": "code",
   "execution_count": null,
   "id": "6dfeed64",
   "metadata": {
    "scrolled": true
   },
   "outputs": [],
   "source": [
    "print(len(title_2012))"
   ]
  },
  {
   "cell_type": "code",
   "execution_count": null,
   "id": "73363151",
   "metadata": {},
   "outputs": [],
   "source": [
    "result = []"
   ]
  },
  {
   "cell_type": "code",
   "execution_count": null,
   "id": "96253863",
   "metadata": {
    "scrolled": true
   },
   "outputs": [],
   "source": [
    "from selenium import webdriver\n",
    "from selenium.webdriver.common.keys import Keys\n",
    "import chromedriver_autoinstaller\n",
    "\n",
    "chromedriver_autoinstaller.install()  \n",
    "browser = webdriver.Chrome()\n",
    "browser.get(\"https://www.imdb.com/\")\n",
    "n = 1\n",
    "for i in title_2012:\n",
    "    elem = browser.find_element_by_name(\"q\")\n",
    "    elem.clear()\n",
    "    sleep(randint(3,5))\n",
    "    elem.send_keys(i)\n",
    "    elem.send_keys(Keys.RETURN)\n",
    "    if \"No results found\" in browser.page_source:\n",
    "        result.append('-')\n",
    "    else:\n",
    "        result.append('Yes')\n",
    "    print(n)\n",
    "    n = n + 1\n",
    "\n",
    "browser.close()    \n",
    "print(result)"
   ]
  },
  {
   "cell_type": "code",
   "execution_count": null,
   "id": "97b5770e",
   "metadata": {
    "scrolled": true
   },
   "outputs": [],
   "source": [
    "print(len(result))"
   ]
  },
  {
   "cell_type": "code",
   "execution_count": null,
   "id": "0ba6e129",
   "metadata": {},
   "outputs": [],
   "source": [
    "# create list\n",
    "\n",
    "film_2012 = {\n",
    "    'title': title_2012,\n",
    "    'imdb_page': result\n",
    "}"
   ]
  },
  {
   "cell_type": "code",
   "execution_count": null,
   "id": "9790afd6",
   "metadata": {},
   "outputs": [],
   "source": [
    "pd_film_2012 = pd.DataFrame.from_dict(film_2012, orient ='index').transpose()\n",
    "pd_film_2012.to_csv('pd_film_2012.csv')"
   ]
  },
  {
   "cell_type": "markdown",
   "id": "e4819a79",
   "metadata": {},
   "source": [
    "## 2011"
   ]
  },
  {
   "cell_type": "code",
   "execution_count": null,
   "id": "7932787b",
   "metadata": {
    "scrolled": true
   },
   "outputs": [],
   "source": [
    "title_2011 = []\n",
    "\n",
    "n = range(1, 12)\n",
    "for e in n:\n",
    "    headers = {\"Accept-Language\": \"en-US, en;q=0.5\"}\n",
    "    sleep(randint(3,6))\n",
    "    #url = i\n",
    "    url = 'https://www.1905.com/mdb/film/list/year-2011/clime-1/o0d0p'+str(e)+'.html'\n",
    "    page = requests.get(url, headers = headers)\n",
    "    print(e)\n",
    "    html_soup = BeautifulSoup(page.content, 'html.parser')\n",
    "    title_all = html_soup.find_all('div', class_='text')\n",
    "    for i in title_all:\n",
    "        title_all1 = i.find('a').get_text()\n",
    "        title_2011.append(title_all1)\n",
    "print(title_2011)"
   ]
  },
  {
   "cell_type": "code",
   "execution_count": null,
   "id": "2e163421",
   "metadata": {
    "scrolled": true
   },
   "outputs": [],
   "source": [
    "print(len(title_2011))"
   ]
  },
  {
   "cell_type": "code",
   "execution_count": null,
   "id": "fd4ddc1c",
   "metadata": {},
   "outputs": [],
   "source": [
    "result = []"
   ]
  },
  {
   "cell_type": "code",
   "execution_count": null,
   "id": "e544bf7b",
   "metadata": {
    "scrolled": true
   },
   "outputs": [],
   "source": [
    "from selenium import webdriver\n",
    "from selenium.webdriver.common.keys import Keys\n",
    "import chromedriver_autoinstaller\n",
    "\n",
    "chromedriver_autoinstaller.install()  \n",
    "browser = webdriver.Chrome()\n",
    "browser.get(\"https://www.imdb.com/\")\n",
    "n = 1\n",
    "for i in title_2011:\n",
    "    elem = browser.find_element_by_name(\"q\")\n",
    "    elem.clear()\n",
    "    sleep(randint(3,5))\n",
    "    elem.send_keys(i)\n",
    "    elem.send_keys(Keys.RETURN)\n",
    "    if \"No results found\" in browser.page_source:\n",
    "        result.append('-')\n",
    "    else:\n",
    "        result.append('Yes')\n",
    "    print(n)\n",
    "    n = n + 1\n",
    "\n",
    "browser.close()    \n",
    "print(result)"
   ]
  },
  {
   "cell_type": "code",
   "execution_count": null,
   "id": "fc74179a",
   "metadata": {
    "scrolled": false
   },
   "outputs": [],
   "source": [
    "print(len(result))"
   ]
  },
  {
   "cell_type": "code",
   "execution_count": null,
   "id": "27d74319",
   "metadata": {},
   "outputs": [],
   "source": [
    "# create list\n",
    "\n",
    "film_2011 = {\n",
    "    'title': title_2011,\n",
    "    'imdb_page': result\n",
    "}"
   ]
  },
  {
   "cell_type": "code",
   "execution_count": null,
   "id": "5bca632e",
   "metadata": {},
   "outputs": [],
   "source": [
    "pd_film_2011 = pd.DataFrame.from_dict(film_2011, orient ='index').transpose()\n",
    "pd_film_2011.to_csv('pd_film_2011.csv')"
   ]
  },
  {
   "cell_type": "markdown",
   "id": "c2edfb78",
   "metadata": {},
   "source": [
    "## 2010"
   ]
  },
  {
   "cell_type": "code",
   "execution_count": null,
   "id": "ec1e8742",
   "metadata": {
    "scrolled": true
   },
   "outputs": [],
   "source": [
    "title_2010 = []\n",
    "\n",
    "n = range(1, 9)\n",
    "for e in n:\n",
    "    headers = {\"Accept-Language\": \"en-US, en;q=0.5\"}\n",
    "    sleep(randint(3,6))\n",
    "    #url = i\n",
    "    url = 'https://www.1905.com/mdb/film/list/year-2010/clime-1/o0d0p'+str(e)+'.html'\n",
    "    page = requests.get(url, headers = headers)\n",
    "    print(e)\n",
    "    html_soup = BeautifulSoup(page.content, 'html.parser')\n",
    "    title_all = html_soup.find_all('div', class_='text')\n",
    "    for i in title_all:\n",
    "        title_all1 = i.find('a').get_text()\n",
    "        title_2010.append(title_all1)\n",
    "print(title_2010)"
   ]
  },
  {
   "cell_type": "code",
   "execution_count": null,
   "id": "f255d9cd",
   "metadata": {
    "scrolled": false
   },
   "outputs": [],
   "source": [
    "print(len(title_2010))"
   ]
  },
  {
   "cell_type": "code",
   "execution_count": null,
   "id": "fe299719",
   "metadata": {},
   "outputs": [],
   "source": [
    "result = []"
   ]
  },
  {
   "cell_type": "code",
   "execution_count": null,
   "id": "af73db17",
   "metadata": {
    "scrolled": true
   },
   "outputs": [],
   "source": [
    "from selenium import webdriver\n",
    "from selenium.webdriver.common.keys import Keys\n",
    "import chromedriver_autoinstaller\n",
    "\n",
    "chromedriver_autoinstaller.install()  \n",
    "browser = webdriver.Chrome()\n",
    "browser.get(\"https://www.imdb.com/\")\n",
    "n = 1\n",
    "for i in title_2010:\n",
    "    elem = browser.find_element_by_name(\"q\")\n",
    "    elem.clear()\n",
    "    sleep(randint(3,5))\n",
    "    elem.send_keys(i)\n",
    "    elem.send_keys(Keys.RETURN)\n",
    "    if \"No results found\" in browser.page_source:\n",
    "        result.append('-')\n",
    "    else:\n",
    "        result.append('Yes')\n",
    "    print(n)\n",
    "    n = n + 1\n",
    "\n",
    "browser.close()    \n",
    "print(result)"
   ]
  },
  {
   "cell_type": "code",
   "execution_count": null,
   "id": "37323af0",
   "metadata": {
    "scrolled": false
   },
   "outputs": [],
   "source": [
    "print(len(result))"
   ]
  },
  {
   "cell_type": "code",
   "execution_count": null,
   "id": "7ce7d99e",
   "metadata": {},
   "outputs": [],
   "source": [
    "# create list\n",
    "\n",
    "film_2010 = {\n",
    "    'title': title_2010,\n",
    "    'imdb_page': result\n",
    "}"
   ]
  },
  {
   "cell_type": "code",
   "execution_count": null,
   "id": "162d1eb0",
   "metadata": {},
   "outputs": [],
   "source": [
    "pd_film_2010 = pd.DataFrame.from_dict(film_2010, orient ='index').transpose()\n",
    "pd_film_2010.to_csv('pd_film_2010.csv')"
   ]
  },
  {
   "cell_type": "markdown",
   "id": "03e7abfa",
   "metadata": {},
   "source": [
    "## 2009"
   ]
  },
  {
   "cell_type": "code",
   "execution_count": null,
   "id": "049b7a27",
   "metadata": {
    "scrolled": true
   },
   "outputs": [],
   "source": [
    "title_2009 = []\n",
    "\n",
    "n = range(1, 8)\n",
    "for e in n:\n",
    "    headers = {\"Accept-Language\": \"en-US, en;q=0.5\"}\n",
    "    sleep(randint(3,6))\n",
    "    #url = i\n",
    "    url = 'https://www.1905.com/mdb/film/list/year-2009/clime-1/o0d0p'+str(e)+'.html'\n",
    "    page = requests.get(url, headers = headers)\n",
    "    print(e)\n",
    "    html_soup = BeautifulSoup(page.content, 'html.parser')\n",
    "    title_all = html_soup.find_all('div', class_='text')\n",
    "    for i in title_all:\n",
    "        title_all1 = i.find('a').get_text()\n",
    "        title_2009.append(title_all1)\n",
    "print(title_2009)"
   ]
  },
  {
   "cell_type": "code",
   "execution_count": null,
   "id": "4330af49",
   "metadata": {
    "scrolled": false
   },
   "outputs": [],
   "source": [
    "print(len(title_2009))\n",
    "result = []"
   ]
  },
  {
   "cell_type": "code",
   "execution_count": null,
   "id": "847a3df8",
   "metadata": {
    "scrolled": true
   },
   "outputs": [],
   "source": [
    "from selenium import webdriver\n",
    "from selenium.webdriver.common.keys import Keys\n",
    "import chromedriver_autoinstaller\n",
    "\n",
    "chromedriver_autoinstaller.install()  \n",
    "browser = webdriver.Chrome()\n",
    "browser.get(\"https://www.imdb.com/\")\n",
    "n = 1\n",
    "for i in title_2009:\n",
    "    elem = browser.find_element_by_name(\"q\")\n",
    "    elem.clear()\n",
    "    sleep(randint(3,5))\n",
    "    elem.send_keys(i)\n",
    "    elem.send_keys(Keys.RETURN)\n",
    "    if \"No results found\" in browser.page_source:\n",
    "        result.append('-')\n",
    "    else:\n",
    "        result.append('Yes')\n",
    "    print(n)\n",
    "    n = n + 1\n",
    "\n",
    "browser.close()    \n",
    "print(result)\n",
    "print(len(result))"
   ]
  },
  {
   "cell_type": "code",
   "execution_count": null,
   "id": "288ffdc1",
   "metadata": {},
   "outputs": [],
   "source": [
    "# create list\n",
    "\n",
    "film_2009 = {\n",
    "    'title': title_2009,\n",
    "    'imdb_page': result\n",
    "}"
   ]
  },
  {
   "cell_type": "code",
   "execution_count": null,
   "id": "6fdf8633",
   "metadata": {},
   "outputs": [],
   "source": [
    "pd_film_2009 = pd.DataFrame.from_dict(film_2009, orient ='index').transpose()\n",
    "pd_film_2009.to_csv('pd_film_2009.csv')"
   ]
  },
  {
   "cell_type": "markdown",
   "id": "3774a459",
   "metadata": {},
   "source": [
    "## 2008"
   ]
  },
  {
   "cell_type": "code",
   "execution_count": null,
   "id": "2f147735",
   "metadata": {
    "scrolled": true
   },
   "outputs": [],
   "source": [
    "title_2008 = []\n",
    "\n",
    "n = range(1, 5)\n",
    "for e in n:\n",
    "    headers = {\"Accept-Language\": \"en-US, en;q=0.5\"}\n",
    "    sleep(randint(3,6))\n",
    "    #url = i\n",
    "    url = 'https://www.1905.com/mdb/film/list/year-2008/clime-1/o0d0p'+str(e)+'.html'\n",
    "    page = requests.get(url, headers = headers)\n",
    "    print(e)\n",
    "    html_soup = BeautifulSoup(page.content, 'html.parser')\n",
    "    title_all = html_soup.find_all('div', class_='text')\n",
    "    for i in title_all:\n",
    "        title_all1 = i.find('a').get_text()\n",
    "        title_2008.append(title_all1)\n",
    "print(title_2008)"
   ]
  },
  {
   "cell_type": "code",
   "execution_count": null,
   "id": "3459bc16",
   "metadata": {
    "scrolled": false
   },
   "outputs": [],
   "source": [
    "print(len(title_2008))\n",
    "result = []"
   ]
  },
  {
   "cell_type": "code",
   "execution_count": null,
   "id": "221ae1e3",
   "metadata": {
    "scrolled": true
   },
   "outputs": [],
   "source": [
    "from selenium import webdriver\n",
    "from selenium.webdriver.common.keys import Keys\n",
    "import chromedriver_autoinstaller\n",
    "\n",
    "chromedriver_autoinstaller.install()  \n",
    "browser = webdriver.Chrome()\n",
    "browser.get(\"https://www.imdb.com/\")\n",
    "n = 1\n",
    "for i in title_2008:\n",
    "    elem = browser.find_element_by_name(\"q\")\n",
    "    elem.clear()\n",
    "    sleep(randint(3,5))\n",
    "    elem.send_keys(i)\n",
    "    elem.send_keys(Keys.RETURN)\n",
    "    if \"No results found\" in browser.page_source:\n",
    "        result.append('-')\n",
    "    else:\n",
    "        result.append('Yes')\n",
    "    print(n)\n",
    "    n = n + 1\n",
    "\n",
    "browser.close()    \n",
    "print(result)\n",
    "print(len(result))"
   ]
  },
  {
   "cell_type": "code",
   "execution_count": null,
   "id": "890d13c2",
   "metadata": {},
   "outputs": [],
   "source": [
    "# create list\n",
    "\n",
    "film_2008 = {\n",
    "    'title': title_2008,\n",
    "    'imdb_page': result\n",
    "}"
   ]
  },
  {
   "cell_type": "code",
   "execution_count": null,
   "id": "86ad53bc",
   "metadata": {},
   "outputs": [],
   "source": [
    "pd_film_2008 = pd.DataFrame.from_dict(film_2008, orient ='index').transpose()\n",
    "pd_film_2008.to_csv('pd_film_2008.csv')"
   ]
  },
  {
   "cell_type": "markdown",
   "id": "b9aecd08",
   "metadata": {},
   "source": [
    "## 2007"
   ]
  },
  {
   "cell_type": "code",
   "execution_count": null,
   "id": "55b5a16c",
   "metadata": {
    "scrolled": true
   },
   "outputs": [],
   "source": [
    "title_2007 = []\n",
    "\n",
    "n = range(1, 21)\n",
    "for e in n:\n",
    "    headers = {\"Accept-Language\": \"en-US, en;q=0.5\"}\n",
    "    sleep(randint(3,6))\n",
    "    #url = i\n",
    "    url = 'https://www.1905.com/mdb/film/list/year-2007/clime-1/o0d0p'+str(e)+'.html'\n",
    "    page = requests.get(url, headers = headers)\n",
    "    print(e)\n",
    "    html_soup = BeautifulSoup(page.content, 'html.parser')\n",
    "    title_all = html_soup.find_all('div', class_='text')\n",
    "    for i in title_all:\n",
    "        title_all1 = i.find('a').get_text()\n",
    "        title_2007.append(title_all1)\n",
    "print(title_2007)"
   ]
  },
  {
   "cell_type": "code",
   "execution_count": null,
   "id": "25fa9b91",
   "metadata": {
    "scrolled": true
   },
   "outputs": [],
   "source": [
    "print(len(title_2007))\n",
    "result = []"
   ]
  },
  {
   "cell_type": "code",
   "execution_count": null,
   "id": "b30ea163",
   "metadata": {
    "scrolled": true
   },
   "outputs": [],
   "source": [
    "from selenium import webdriver\n",
    "from selenium.webdriver.common.keys import Keys\n",
    "import chromedriver_autoinstaller\n",
    "\n",
    "chromedriver_autoinstaller.install()  \n",
    "browser = webdriver.Chrome()\n",
    "browser.get(\"https://www.imdb.com/\")\n",
    "n = 1\n",
    "for i in title_2007:\n",
    "    elem = browser.find_element_by_name(\"q\")\n",
    "    elem.clear()\n",
    "    sleep(randint(3,5))\n",
    "    elem.send_keys(i)\n",
    "    elem.send_keys(Keys.RETURN)\n",
    "    if \"No results found\" in browser.page_source:\n",
    "        result.append('-')\n",
    "    else:\n",
    "        result.append('Yes')\n",
    "    print(n)\n",
    "    n = n + 1\n",
    "\n",
    "browser.close()    \n",
    "print(result)\n",
    "print(len(result))"
   ]
  },
  {
   "cell_type": "code",
   "execution_count": null,
   "id": "46cc5578",
   "metadata": {},
   "outputs": [],
   "source": [
    "# create list\n",
    "\n",
    "film_2007 = {\n",
    "    'title': title_2007,\n",
    "    'imdb_page': result\n",
    "}"
   ]
  },
  {
   "cell_type": "code",
   "execution_count": null,
   "id": "db652aa5",
   "metadata": {},
   "outputs": [],
   "source": [
    "pd_film_2007 = pd.DataFrame.from_dict(film_2007, orient ='index').transpose()\n",
    "pd_film_2007.to_csv('pd_film_2007.csv')"
   ]
  },
  {
   "cell_type": "markdown",
   "id": "456587be",
   "metadata": {},
   "source": [
    "## 2006"
   ]
  },
  {
   "cell_type": "code",
   "execution_count": null,
   "id": "b540c206",
   "metadata": {
    "scrolled": true
   },
   "outputs": [],
   "source": [
    "title_2006 = []\n",
    "\n",
    "n = range(1, 7)\n",
    "for e in n:\n",
    "    headers = {\"Accept-Language\": \"en-US, en;q=0.5\"}\n",
    "    sleep(randint(3,6))\n",
    "    #url = i\n",
    "    url = 'https://www.1905.com/mdb/film/list/year-2006/clime-1/o0d0p'+str(e)+'.html'\n",
    "    page = requests.get(url, headers = headers)\n",
    "    print(e)\n",
    "    html_soup = BeautifulSoup(page.content, 'html.parser')\n",
    "    title_all = html_soup.find_all('div', class_='text')\n",
    "    for i in title_all:\n",
    "        title_all1 = i.find('a').get_text()\n",
    "        title_2006.append(title_all1)\n",
    "print(title_2006)"
   ]
  },
  {
   "cell_type": "code",
   "execution_count": null,
   "id": "c1997437",
   "metadata": {
    "scrolled": true
   },
   "outputs": [],
   "source": [
    "print(len(title_2006))\n",
    "result = []"
   ]
  },
  {
   "cell_type": "code",
   "execution_count": null,
   "id": "d30e8aa2",
   "metadata": {
    "scrolled": true
   },
   "outputs": [],
   "source": [
    "from selenium import webdriver\n",
    "from selenium.webdriver.common.keys import Keys\n",
    "import chromedriver_autoinstaller\n",
    "\n",
    "chromedriver_autoinstaller.install()  \n",
    "browser = webdriver.Chrome()\n",
    "browser.get(\"https://www.imdb.com/\")\n",
    "n = 1\n",
    "for i in title_2006:\n",
    "    elem = browser.find_element_by_name(\"q\")\n",
    "    elem.clear()\n",
    "    sleep(randint(3,5))\n",
    "    elem.send_keys(i)\n",
    "    elem.send_keys(Keys.RETURN)\n",
    "    if \"No results found\" in browser.page_source:\n",
    "        result.append('-')\n",
    "    else:\n",
    "        result.append('Yes')\n",
    "    print(n)\n",
    "    n = n + 1\n",
    "\n",
    "browser.close()    \n",
    "print(result)\n",
    "print(len(result))"
   ]
  },
  {
   "cell_type": "code",
   "execution_count": null,
   "id": "2b82103c",
   "metadata": {},
   "outputs": [],
   "source": [
    "# create list\n",
    "\n",
    "film_2006 = {\n",
    "    'title': title_2006,\n",
    "    'imdb_page': result\n",
    "}"
   ]
  },
  {
   "cell_type": "code",
   "execution_count": null,
   "id": "0ad0b970",
   "metadata": {},
   "outputs": [],
   "source": [
    "pd_film_2006 = pd.DataFrame.from_dict(film_2006, orient ='index').transpose()\n",
    "pd_film_2006.to_csv('pd_film_2006.csv')"
   ]
  },
  {
   "cell_type": "markdown",
   "id": "816f2637",
   "metadata": {},
   "source": [
    "## 2005"
   ]
  },
  {
   "cell_type": "code",
   "execution_count": null,
   "id": "ff7fa520",
   "metadata": {
    "scrolled": true
   },
   "outputs": [],
   "source": [
    "title_2005 = []\n",
    "\n",
    "n = range(1, 12)\n",
    "for e in n:\n",
    "    headers = {\"Accept-Language\": \"en-US, en;q=0.5\"}\n",
    "    sleep(randint(3,6))\n",
    "    #url = i\n",
    "    url = 'https://www.1905.com/mdb/film/list/year-2005/clime-1/o0d0p'+str(e)+'.html'\n",
    "    page = requests.get(url, headers = headers)\n",
    "    print(e)\n",
    "    html_soup = BeautifulSoup(page.content, 'html.parser')\n",
    "    title_all = html_soup.find_all('div', class_='text')\n",
    "    for i in title_all:\n",
    "        title_all1 = i.find('a').get_text()\n",
    "        title_2005.append(title_all1)\n",
    "print(title_2005)"
   ]
  },
  {
   "cell_type": "code",
   "execution_count": null,
   "id": "b46062be",
   "metadata": {
    "scrolled": true
   },
   "outputs": [],
   "source": [
    "print(len(title_2005))\n",
    "result = []"
   ]
  },
  {
   "cell_type": "code",
   "execution_count": null,
   "id": "f41cff5e",
   "metadata": {
    "scrolled": true
   },
   "outputs": [],
   "source": [
    "from selenium import webdriver\n",
    "from selenium.webdriver.common.keys import Keys\n",
    "import chromedriver_autoinstaller\n",
    "\n",
    "chromedriver_autoinstaller.install()  \n",
    "browser = webdriver.Chrome()\n",
    "browser.get(\"https://www.imdb.com/\")\n",
    "n = 1\n",
    "for i in title_2005:\n",
    "    elem = browser.find_element_by_name(\"q\")\n",
    "    elem.clear()\n",
    "    sleep(randint(3,5))\n",
    "    elem.send_keys(i)\n",
    "    elem.send_keys(Keys.RETURN)\n",
    "    if \"No results found\" in browser.page_source:\n",
    "        result.append('-')\n",
    "    else:\n",
    "        result.append('Yes')\n",
    "    print(n)\n",
    "    n = n + 1\n",
    "\n",
    "browser.close()    \n",
    "print(result)\n",
    "print(len(result))"
   ]
  },
  {
   "cell_type": "code",
   "execution_count": null,
   "id": "52ca0930",
   "metadata": {},
   "outputs": [],
   "source": [
    "# create list\n",
    "\n",
    "film_2005 = {\n",
    "    'title': title_2005,\n",
    "    'imdb_page': result\n",
    "}"
   ]
  },
  {
   "cell_type": "code",
   "execution_count": null,
   "id": "b3f44039",
   "metadata": {},
   "outputs": [],
   "source": [
    "pd_film_2005 = pd.DataFrame.from_dict(film_2005, orient ='index').transpose()\n",
    "pd_film_2005.to_csv('pd_film_2005.csv')"
   ]
  },
  {
   "cell_type": "markdown",
   "id": "09eeb75f",
   "metadata": {},
   "source": [
    "## 2004"
   ]
  },
  {
   "cell_type": "code",
   "execution_count": null,
   "id": "0f09b604",
   "metadata": {
    "scrolled": true
   },
   "outputs": [],
   "source": [
    "title_2004 = []\n",
    "\n",
    "n = range(1, 10)\n",
    "for e in n:\n",
    "    headers = {\"Accept-Language\": \"en-US, en;q=0.5\"}\n",
    "    sleep(randint(3,6))\n",
    "    #url = i\n",
    "    url = 'https://www.1905.com/mdb/film/list/year-2004/clime-1/o0d0p'+str(e)+'.html'\n",
    "    page = requests.get(url, headers = headers)\n",
    "    print(e)\n",
    "    html_soup = BeautifulSoup(page.content, 'html.parser')\n",
    "    title_all = html_soup.find_all('div', class_='text')\n",
    "    for i in title_all:\n",
    "        title_all1 = i.find('a').get_text()\n",
    "        title_2004.append(title_all1)\n",
    "print(title_2004)"
   ]
  },
  {
   "cell_type": "code",
   "execution_count": null,
   "id": "db369012",
   "metadata": {
    "scrolled": true
   },
   "outputs": [],
   "source": [
    "print(len(title_2004))\n",
    "result = []"
   ]
  },
  {
   "cell_type": "code",
   "execution_count": null,
   "id": "e551d210",
   "metadata": {
    "scrolled": true
   },
   "outputs": [],
   "source": [
    "from selenium import webdriver\n",
    "from selenium.webdriver.common.keys import Keys\n",
    "import chromedriver_autoinstaller\n",
    "\n",
    "chromedriver_autoinstaller.install()  \n",
    "browser = webdriver.Chrome()\n",
    "browser.get(\"https://www.imdb.com/\")\n",
    "n = 1\n",
    "for i in title_2004:\n",
    "    elem = browser.find_element_by_name(\"q\")\n",
    "    elem.clear()\n",
    "    sleep(randint(3,5))\n",
    "    elem.send_keys(i)\n",
    "    elem.send_keys(Keys.RETURN)\n",
    "    if \"No results found\" in browser.page_source:\n",
    "        result.append('-')\n",
    "    else:\n",
    "        result.append('Yes')\n",
    "    print(n)\n",
    "    n = n + 1\n",
    "\n",
    "browser.close()    \n",
    "print(result)\n",
    "print(len(result))"
   ]
  },
  {
   "cell_type": "code",
   "execution_count": null,
   "id": "00121fed",
   "metadata": {},
   "outputs": [],
   "source": [
    "# create list\n",
    "\n",
    "film_2004 = {\n",
    "    'title': title_2004,\n",
    "    'imdb_page': result\n",
    "}"
   ]
  },
  {
   "cell_type": "code",
   "execution_count": null,
   "id": "75e033e1",
   "metadata": {},
   "outputs": [],
   "source": [
    "pd_film_2004 = pd.DataFrame.from_dict(film_2004, orient ='index').transpose()\n",
    "pd_film_2004.to_csv('pd_film_2004.csv')"
   ]
  },
  {
   "cell_type": "markdown",
   "id": "b3b3bcb2",
   "metadata": {},
   "source": [
    "## 2003"
   ]
  },
  {
   "cell_type": "code",
   "execution_count": null,
   "id": "244556e3",
   "metadata": {
    "scrolled": true
   },
   "outputs": [],
   "source": [
    "title_2003 = []\n",
    "\n",
    "n = range(1, 7)\n",
    "for e in n:\n",
    "    headers = {\"Accept-Language\": \"en-US, en;q=0.5\"}\n",
    "    sleep(randint(3,6))\n",
    "    #url = i\n",
    "    url = 'https://www.1905.com/mdb/film/list/year-2003/clime-1/o0d0p'+str(e)+'.html'\n",
    "    page = requests.get(url, headers = headers)\n",
    "    print(e)\n",
    "    html_soup = BeautifulSoup(page.content, 'html.parser')\n",
    "    title_all = html_soup.find_all('div', class_='text')\n",
    "    for i in title_all:\n",
    "        title_all1 = i.find('a').get_text()\n",
    "        title_2003.append(title_all1)\n",
    "print(title_2003)"
   ]
  },
  {
   "cell_type": "code",
   "execution_count": null,
   "id": "27acb77f",
   "metadata": {
    "scrolled": false
   },
   "outputs": [],
   "source": [
    "print(len(title_2003))\n",
    "result = []"
   ]
  },
  {
   "cell_type": "code",
   "execution_count": null,
   "id": "c1dc7650",
   "metadata": {
    "scrolled": true
   },
   "outputs": [],
   "source": [
    "from selenium import webdriver\n",
    "from selenium.webdriver.common.keys import Keys\n",
    "import chromedriver_autoinstaller\n",
    "\n",
    "chromedriver_autoinstaller.install()  \n",
    "browser = webdriver.Chrome()\n",
    "browser.get(\"https://www.imdb.com/\")\n",
    "n = 1\n",
    "for i in title_2003:\n",
    "    elem = browser.find_element_by_name(\"q\")\n",
    "    elem.clear()\n",
    "    sleep(randint(3,5))\n",
    "    elem.send_keys(i)\n",
    "    elem.send_keys(Keys.RETURN)\n",
    "    if \"No results found\" in browser.page_source:\n",
    "        result.append('-')\n",
    "    else:\n",
    "        result.append('Yes')\n",
    "    print(n)\n",
    "    n = n + 1\n",
    "\n",
    "browser.close()    \n",
    "print(result)\n",
    "print(len(result))"
   ]
  },
  {
   "cell_type": "code",
   "execution_count": null,
   "id": "a5f183bd",
   "metadata": {},
   "outputs": [],
   "source": [
    "# create list\n",
    "\n",
    "film_2003 = {\n",
    "    'title': title_2003,\n",
    "    'imdb_page': result\n",
    "}"
   ]
  },
  {
   "cell_type": "code",
   "execution_count": null,
   "id": "ee5300b0",
   "metadata": {},
   "outputs": [],
   "source": [
    "pd_film_2003 = pd.DataFrame.from_dict(film_2003, orient ='index').transpose()\n",
    "pd_film_2003.to_csv('pd_film_2003.csv')"
   ]
  },
  {
   "cell_type": "markdown",
   "id": "1d8dc90c",
   "metadata": {},
   "source": [
    "## 2002"
   ]
  },
  {
   "cell_type": "code",
   "execution_count": null,
   "id": "baa20cb8",
   "metadata": {
    "scrolled": true
   },
   "outputs": [],
   "source": [
    "title_2002 = []\n",
    "\n",
    "n = range(1, 7)\n",
    "for e in n:\n",
    "    headers = {\"Accept-Language\": \"en-US, en;q=0.5\"}\n",
    "    sleep(randint(3,6))\n",
    "    #url = i\n",
    "    url = 'https://www.1905.com/mdb/film/list/year-2002/clime-1/o0d0p'+str(e)+'.html'\n",
    "    page = requests.get(url, headers = headers)\n",
    "    print(e)\n",
    "    html_soup = BeautifulSoup(page.content, 'html.parser')\n",
    "    title_all = html_soup.find_all('div', class_='text')\n",
    "    for i in title_all:\n",
    "        title_all1 = i.find('a').get_text()\n",
    "        title_2002.append(title_all1)\n",
    "print(title_2002)"
   ]
  },
  {
   "cell_type": "code",
   "execution_count": null,
   "id": "6f500b6f",
   "metadata": {
    "scrolled": false
   },
   "outputs": [],
   "source": [
    "print(len(title_2002))\n",
    "result = []"
   ]
  },
  {
   "cell_type": "code",
   "execution_count": null,
   "id": "15d0b46f",
   "metadata": {
    "scrolled": true
   },
   "outputs": [],
   "source": [
    "from selenium import webdriver\n",
    "from selenium.webdriver.common.keys import Keys\n",
    "import chromedriver_autoinstaller\n",
    "\n",
    "chromedriver_autoinstaller.install()  \n",
    "browser = webdriver.Chrome()\n",
    "browser.get(\"https://www.imdb.com/\")\n",
    "n = 1\n",
    "for i in title_2002:\n",
    "    elem = browser.find_element_by_name(\"q\")\n",
    "    elem.clear()\n",
    "    sleep(randint(3,5))\n",
    "    elem.send_keys(i)\n",
    "    elem.send_keys(Keys.RETURN)\n",
    "    if \"No results found\" in browser.page_source:\n",
    "        result.append('-')\n",
    "    else:\n",
    "        result.append('Yes')\n",
    "    print(n)\n",
    "    n = n + 1\n",
    "\n",
    "browser.close()    \n",
    "print(result)\n",
    "print(len(result))"
   ]
  },
  {
   "cell_type": "code",
   "execution_count": null,
   "id": "e6511c25",
   "metadata": {},
   "outputs": [],
   "source": [
    "# create list\n",
    "\n",
    "film_2002 = {\n",
    "    'title': title_2002,\n",
    "    'imdb_page': result\n",
    "}"
   ]
  },
  {
   "cell_type": "code",
   "execution_count": null,
   "id": "46da88e1",
   "metadata": {},
   "outputs": [],
   "source": [
    "pd_film_2002 = pd.DataFrame.from_dict(film_2002, orient ='index').transpose()\n",
    "pd_film_2002.to_csv('pd_film_2002.csv')"
   ]
  },
  {
   "cell_type": "markdown",
   "id": "87f71f86",
   "metadata": {},
   "source": [
    "## Delete the items that do not have a page on IMDb website"
   ]
  },
  {
   "cell_type": "code",
   "execution_count": 2,
   "id": "c69704e4",
   "metadata": {},
   "outputs": [
    {
     "name": "stdout",
     "output_type": "stream",
     "text": [
      "Requirement already satisfied: xlrd in /opt/anaconda3/lib/python3.8/site-packages (2.0.1)\n",
      "Note: you may need to restart the kernel to use updated packages.\n"
     ]
    }
   ],
   "source": [
    "%pip install xlrd"
   ]
  },
  {
   "cell_type": "code",
   "execution_count": 12,
   "id": "c5853207",
   "metadata": {
    "scrolled": true
   },
   "outputs": [
    {
     "name": "stdout",
     "output_type": "stream",
     "text": [
      "2002 16\n",
      "2003 14\n",
      "2004 28\n",
      "2005 26\n",
      "2006 24\n",
      "2007 46\n",
      "2008 14\n",
      "2009 26\n",
      "2010 41\n",
      "2011 57\n",
      "2012 51\n",
      "2013 56\n",
      "2014 67\n",
      "2015 71\n",
      "2016 105\n",
      "2017 83\n",
      "2018 92\n",
      "2019 91\n",
      "2020 56\n"
     ]
    }
   ],
   "source": [
    "year = range(2002, 2021)\n",
    "for y in year:\n",
    "    filmlist = pd.read_csv('../data/pd_film_' +str(y)+'.csv') # read each year's files\n",
    "    films = filmlist[filmlist['imdb_page']==\"Yes\"] # select the items with a \"Yes\" in the column of \"imdb_page\"\n",
    "    films.insert(3, 'URL_Douban',' ', allow_duplicates=False) # create a new column for next step's work\n",
    "    films.insert(4, 'Abandon',' ', allow_duplicates=False) # create a new column for next step's work\n",
    "    films.to_excel('film_'+str(y)+'.xlsx') # save as excel file with each year's number\n",
    "    print(y, len(films))"
   ]
  }
 ],
 "metadata": {
  "kernelspec": {
   "display_name": "Python 3",
   "language": "python",
   "name": "python3"
  },
  "language_info": {
   "codemirror_mode": {
    "name": "ipython",
    "version": 3
   },
   "file_extension": ".py",
   "mimetype": "text/x-python",
   "name": "python",
   "nbconvert_exporter": "python",
   "pygments_lexer": "ipython3",
   "version": "3.8.8"
  }
 },
 "nbformat": 4,
 "nbformat_minor": 5
}
